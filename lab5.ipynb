{
 "cells": [
  {
   "cell_type": "markdown",
   "metadata": {},
   "source": [
    "# ECS529U Algorithms and Data Structures\n",
    "# Lab sheet 5\n",
    "\n",
    "This lab gets you to work with the array and count implementation of array lists. We also \n",
    "briefly look at priority queues.\n",
    "\n",
    "**Marks (max 5):** Questions 1,2: 1 each | Questions 3-6: 0.5 each | Question 7: 1\n",
    "\n",
    "**Note:** Make sure you download the latest version of the `ArrayList` class from QM+."
   ]
  },
  {
   "cell_type": "markdown",
   "metadata": {},
   "source": [
    "## Question 1 [1]\n",
    "\n",
    "Add to `ArrayList` a function\n",
    "\n",
    "    def appendAll(self, A)\n",
    "    \n",
    "that appends all elements of the array `A` in the array list (the one represented by `self`). \n",
    "\n",
    "For example, if `ls` is `[2,3,4,5]` then `ls.appendAll([42,24])` changes `ls` to `[2,3,4,5,42,24]`.\n",
    "\n",
    "Then, add to `ArrayList` a function\n",
    "\n",
    "    def toArray(self)\n",
    "    \n",
    "that returns a new array containing the same elements as the array list represented by \n",
    "`self`. Note that the length of the array should be the same as that of the array list, and not \n",
    "the same as that of its internal array. "
   ]
  },
  {
   "cell_type": "markdown",
   "metadata": {},
   "source": [
    "## Question 2 [1]\n",
    "\n",
    "Modify the functions `get`, `set`, `remove` and `insert` of `ArrayList` so that they throw an exception if the \n",
    "input i is out of the bounds of the array list. \n",
    "\n",
    "To help you in this, you can use the method below, which checks whether `i` is \n",
    "between `0` and `hi` (inclusive) and, if this is not the case, throws an exception.\n",
    "\n",
    "    def _checkBounds(self, i, hi):  # checks whether i is in [0,hi]\n",
    "        if i < 0 or i > hi:\n",
    "            raise Exception(\"index \"+str(i)+\" out of bounds!\")"
   ]
  },
  {
   "cell_type": "markdown",
   "metadata": {},
   "source": [
    "## Question 3 [0.5]\n",
    "\n",
    "Add to `ArrayList` a function \n",
    "\n",
    "    def removeVal(self, e)\n",
    "    \n",
    "that removes the first occurrence of `e` from the array list and returns its position in the list, or returns `-1` and does not change the array list if `e` is not in it.\n",
    "\n",
    "For example, if `ls` is the array list `[2,3,4,5,5,1,4]` then `ls.removeVal(4)` should change `ls` to `[2,3,5,5,1,4]` and return `2`, whereas `ls.removeVal(0)` should not change `ls` and return `-1`."
   ]
  },
  {
   "cell_type": "markdown",
   "metadata": {},
   "source": [
    "## Question 4 [0.5]\n",
    "\n",
    "Add to `ArrayList` a function\n",
    "\n",
    "    sort(self)\n",
    "\n",
    "that sorts the elements in the array list using (your own implementation of) insertion sort.\n",
    "\n",
    "Note that the function should only sort the elements in the array list, not the whole of `inArray`. That is because `inArray` has many “garbage” elements that, if sorted in position, will essentially ruin the array list.\n"
   ]
  },
  {
   "cell_type": "markdown",
   "metadata": {},
   "source": [
    "## Question 5 [0.5]\n",
    "\n",
    "Add to `ArrayList` a function \n",
    "\n",
    "    def removeInterval(self,i,j)\n",
    "    \n",
    "that removes from the array list all elements in positions `i,i+1,...,j` and returns `True`. In the case that `j<i` your function should not change the list and return `False`.\n",
    "\n",
    "Your implementation should be efficient and not move elements more than needed (e.g. calling `self.remove` on all indices between `i` and `j` would not be efficient).\n",
    "\n",
    "For example, if `ls` is the list `[2,3,4,5,45,4,3,2]` then `ls.removeInterval(1,3)` should change `ls` to and return `True`. On the other hand, `ls.removeInterval(5,4)` should leave `ls` unchanged and return `False`."
   ]
  },
  {
   "cell_type": "code",
   "execution_count": null,
   "metadata": {},
   "outputs": [],
   "source": [
    "# here are some (minimal) tests for Questions 1-5\n",
    "        \n",
    "ls = ArrayList()\n",
    "ls.appendAll([2,3,4,5,5,1,4])\n",
    "print(ls)\n",
    "print(ls.removeVal(0),ls)\n",
    "print(ls.removeVal(4),ls)\n",
    "\n",
    "ls.sort()\n",
    "print(ls)\n",
    "\n",
    "ls.set(4,2)\n",
    "ls.insert(3,10)\n",
    "print(ls)\n",
    "print(ls.remove(0),ls.get(4),ls.insert(6,6),ls)\n",
    "# ls.remove(7)   # throws exception\n",
    "# ls.get(-1)     # throws exception\n",
    "# ls.set(7,1)    # throws exception\n",
    "# ls.insert(8,0) # throws exception\n",
    "\n",
    "ls = ArrayList()\n",
    "ls.appendAll([2,3,4,5,45,4,3,2])\n",
    "print(ls.removeInterval(5,4),ls)\n",
    "print(ls.removeInterval(1,3),ls)\n",
    "print(ls.removeInterval(0,0),ls)\n",
    "print(ls.removeInterval(3,3),ls)"
   ]
  },
  {
   "cell_type": "markdown",
   "metadata": {},
   "source": [
    "## Question 6 [0.5]\n",
    "\n",
    "Recall the class we used for student scripts:\n",
    "\n",
    "    class Script:\n",
    "        def __init__(self, s, m):\n",
    "            self.sid = s\n",
    "            self.mark = m\n",
    "            \n",
    "        def __str__(self)\n",
    "            return \"Script\"+str((self.sid,self.mark))\n",
    "and assume that marks are integers from 0 to 100 (inclusive). Write a function \n",
    "\n",
    "    def groupScripts(A)\n",
    "that takes an array `A` of scripts and returns a new array `G` of length 101. `G` is such that, for each number `x` (between 0 and 100), `G[x]` is an array list containing all scripts from `A` with mark `x`. Put otherwise, the function groups the scripts in `A` by mark.\n",
    "\n",
    "For example, the following code:\n",
    "\n",
    "    A = [Script(101,52), Script(95,42), Script(102,54), Script(100,42), Script(113,54), Script(99,42)]\n",
    "    G = groups(A)\n",
    "    for i in range(101): print(i,G[i])    \n",
    "should print (note the order of scripts in each array list may vary):\n",
    "\n",
    "    0 []\n",
    "    1 []\n",
    "    ...\n",
    "    42 [Script(95, 42), Script(100, 42), Script(99, 42)]\n",
    "    43 []\n",
    "    ...\n",
    "    52 [Script(101, 52)]\n",
    "    53 []\n",
    "    54 [Script(102, 54), Script(113, 54)]\n",
    "    55 []\n",
    "    ...\n",
    "    100 []"
   ]
  },
  {
   "cell_type": "markdown",
   "metadata": {},
   "source": [
    "## Priority Queues\n",
    "\n",
    "For the next question, we look at another data structure, namely priority queues. A priority \n",
    "queue is a queue in which each element has a priority, and where dequeueing always \n",
    "returns the item with the greatest priority in the queue.\n",
    "\n",
    "We start by defining a class of priority queue elements (PQ-elements for short):\n",
    "\n",
    "    class PQElement:\n",
    "        def __init__(self, v, p):\n",
    "            self.val = v\n",
    "            self.priority = p\n",
    "            \n",
    "So, a PQ-element is a pair consisting of a value (which can be anything, e.g. an integer, a \n",
    "string, an array, etc.) and a priority (which is an integer). \n",
    "\n",
    "Below we also implemented the `__str__` function to be able to print PQ-elements."
   ]
  },
  {
   "cell_type": "code",
   "execution_count": null,
   "metadata": {},
   "outputs": [],
   "source": [
    "class PQElement:\n",
    "    def __init__(self, v, p):\n",
    "        self.val = v\n",
    "        self.priority = p\n",
    "    \n",
    "    def __str__(self):\n",
    "        return str((self.val,self.priority))"
   ]
  },
  {
   "cell_type": "markdown",
   "metadata": {},
   "source": [
    "## Question 7 [1]\n",
    "\n",
    "Write a Python class `PQueue` that implements a priority queue using an array list of \n",
    "`PQElement`’s. In particular, you need to implement 5 functions:\n",
    "\n",
    "- `__init__`: for creating an empty priority queue\n",
    "- `size`: for returning the size of the priority queue\n",
    "- `enq`: for enqueueing a new PQ-element in the priority queue\n",
    "- `deq` for dequeueing from the priority queue the PQ-element with the greatest priority\n",
    "- `__str__`: for printing the elements of the priority queue into a string, in order of decreasing priority\n",
    "\n",
    "Your function for dequeueing should have complexity Θ(1).\n",
    "\n",
    "Test each of the functions on examples of your own making. For example, running:\n",
    "\n",
    "    ls = PQueue()\n",
    "    A = [(\"D\",7),(\"S\",5),(\"A\",0),(\"G\",4),(\"Q\",8),(\"P\",3),(\"A\",-4),(\"S\",1),(\"S\",-1),(\"T\",2),(\"G\",-2)]\n",
    "    for x in A: ls.enq(PQElement(x[0],x[1]))\n",
    "    print(ls)\n",
    "    print(ls.deq(),ls)\n",
    "should give this printout:\n",
    "\n",
    "    [('Q', 8),('D', 7),('S', 5),('G', 4),('P', 3),('T', 2),('S', 1),('A', 0),('S', -1),('G', -2),('A', -4)]\n",
    "    ('Q', 8) [('D', 7),('S', 5),('G', 4),('P', 3),('T', 2),('S', 1),('A', 0),('S', -1),('G', -2),('A', -4)]\n",
    "_Hint_ : you can use the class `ArrayList` to store `PQElement`’s. Accordingly, you can modify the \n",
    "class `Queue` that we saw in the lecture exercises so that it implements a queue of `PQElement`’s. You then need to modify the latter so that dequeueing always removes the element with the highest priority. One way to achieve this is to enqueue elements in some specific order based on their priority."
   ]
  }
 ],
 "metadata": {
  "kernelspec": {
   "display_name": "Python 3 (ipykernel)",
   "language": "python",
   "name": "python3"
  },
  "language_info": {
   "codemirror_mode": {
    "name": "ipython",
    "version": 3
   },
   "file_extension": ".py",
   "mimetype": "text/x-python",
   "name": "python",
   "nbconvert_exporter": "python",
   "pygments_lexer": "ipython3",
   "version": "3.11.0"
  }
 },
 "nbformat": 4,
 "nbformat_minor": 4
}
