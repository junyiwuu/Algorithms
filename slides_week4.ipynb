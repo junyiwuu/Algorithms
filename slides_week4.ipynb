{
 "cells": [
  {
   "cell_type": "code",
   "execution_count": null,
   "metadata": {},
   "outputs": [],
   "source": []
  },
  {
   "cell_type": "markdown",
   "metadata": {},
   "source": [
    "### Array\n",
    "\n",
    "array are the most common data tyoe for storing data. \n",
    "* an array is a sequence. \n",
    "* the elements of an array can be read and modified by using their index\n",
    "* the length of the array is fixed, cannot be changed\n",
    "\n",
    "the index is starting from 0\n",
    "\n",
    "\n",
    "**pros**:\n",
    "- easy to understand and easy\n",
    "- good for wide range of tasks\n",
    "- typically veyr fast to read and write (low level, close to underlying hardware)\n",
    "-few functionalities, not many things can go wrong\n",
    "\n",
    "**cons**:\n",
    "- fixed size, cannot enlarge an array\n",
    "- put more energy on elaborate data structures"
   ]
  },
  {
   "cell_type": "markdown",
   "metadata": {},
   "source": [
    "### Lists\n",
    "* elemnents are stored in a sequence\n",
    "* we can read/ write elements\n",
    "* we can add/ remove elements at any position (change the length of the list)\n"
   ]
  },
  {
   "cell_type": "markdown",
   "metadata": {},
   "source": []
  },
  {
   "cell_type": "code",
   "execution_count": 1,
   "metadata": {},
   "outputs": [],
   "source": [
    "class X:\n",
    "    cVar = \"some class variable\"\n",
    "    def __init__(self):\n",
    "        self.iv='some instance bariable'\n",
    "        "
   ]
  },
  {
   "cell_type": "code",
   "execution_count": 2,
   "metadata": {},
   "outputs": [
    {
     "name": "stdout",
     "output_type": "stream",
     "text": [
      "some class variable\n"
     ]
    }
   ],
   "source": [
    "print(X.cVar)"
   ]
  },
  {
   "cell_type": "code",
   "execution_count": 3,
   "metadata": {},
   "outputs": [
    {
     "name": "stdout",
     "output_type": "stream",
     "text": [
      "some instance bariable\n"
     ]
    }
   ],
   "source": [
    "obj = X()\n",
    "print(obj.iv)"
   ]
  },
  {
   "cell_type": "code",
   "execution_count": 4,
   "metadata": {},
   "outputs": [],
   "source": [
    "class Y:\n",
    "    def cFun():\n",
    "        print(\"class function\")\n",
    "    def iFun(self):\n",
    "        print(\"instance function\"+str(self.var))\n",
    "        self.var = 42\n",
    "        self.anotherVariable = \"done with iFun()\"\n",
    "    def __init__(self, v):\n",
    "        self.var = v"
   ]
  },
  {
   "cell_type": "code",
   "execution_count": 9,
   "metadata": {},
   "outputs": [
    {
     "name": "stdout",
     "output_type": "stream",
     "text": [
      "instance function3\n",
      "None\n",
      "done with iFun()\n"
     ]
    }
   ],
   "source": [
    "x = Y(3)\n",
    "print(x.iFun())\n",
    "print(x.anotherVariable)"
   ]
  },
  {
   "cell_type": "code",
   "execution_count": 11,
   "metadata": {},
   "outputs": [],
   "source": [
    "class NaiveArrayList:\n",
    "    def __init__(self):\n",
    "        self.inArray = []\n",
    "    def get(self, i):\n",
    "        return self.inArray[i]\n",
    "    \n",
    "    def set(self, i, e):\n",
    "        self.inArray[i] = e\n",
    "    def length(self):\n",
    "        return len(self.inArray)\n",
    "    \n",
    "    def append(self, e):\n",
    "        newArray = [0 for i in range(len(self.inArray)+1)]\n",
    "        for i in range(len(self.inArray)):\n",
    "            newArray[i] = self.inArray[i]\n",
    "        newArray[len(self.inArray)] = e\n",
    "        self.inArray = newArray"
   ]
  },
  {
   "cell_type": "code",
   "execution_count": 13,
   "metadata": {},
   "outputs": [],
   "source": [
    "class ArrayList:\n",
    "    def __init__(self):\n",
    "        self.inArray = [0 for i in range(10)]\n",
    "        self.count = 0\n",
    "    def get(self, i):\n",
    "        return self.inArray[i]\n",
    "    def set(self, i, e):\n",
    "        self.inArray[i] = e\n",
    "    def length(self):\n",
    "        return self.count\n",
    "    def append(self, e): \n",
    "        self.inArray[self.count] = e\n",
    "        self.count += 1\n",
    "        if len(self.inArray) == self.count:\n",
    "            self._resizeUp()\n",
    "\n",
    "    \n",
    "    def insert(self, i, e):\n",
    "        for j in range(self.count, i, -1):\n",
    "            self.inArray[j] = self.inArray[j-1]\n",
    "        self.inArray[i] = e\n",
    "        self.count += 1\n",
    "        if len(self.inArray) == self.count:\n",
    "            self._resizeUp()\n",
    "\n",
    "    def remove(self, i):\n",
    "        self.count -= 1\n",
    "        val = self.inArray[i]\n",
    "        for j in range(i, self.count):\n",
    "            self.inArray[j] = self.inArray[j+1] # 向前移动了一位\n",
    "        return val\n",
    "        \n",
    "\n",
    "    def _resizeUp(self):\n",
    "        newArray = [0 for i in range(2*len(self.inArray))]\n",
    "        for j in range(len(self.inArray)):\n",
    "            newArray[j] = self.inArray[j]\n",
    "        self.inArray = newArray"
   ]
  },
  {
   "cell_type": "markdown",
   "metadata": {},
   "source": [
    "## Stacks"
   ]
  },
  {
   "cell_type": "code",
   "execution_count": 14,
   "metadata": {},
   "outputs": [],
   "source": [
    "class Stack:\n",
    "    def __init__(self):\n",
    "        self.inList = ArrayList()\n",
    "    def size(self):\n",
    "        return self.inList.length()\n",
    "    def push(self, e):\n",
    "        self.inList.insert(0, e)\n",
    "    def pop(self):\n",
    "        return self.inList.remove(0)\n",
    "    \n",
    "\n",
    "## IMPROVE:\n",
    "\n",
    "class Stack:\n",
    "    def __init__(self):\n",
    "        self.inList = ArrayList()\n",
    "    def size(self):\n",
    "        return self.inList.length()\n",
    "    def push(self, e):\n",
    "        self.inList.append(e)\n",
    "    def pop(self):\n",
    "        top = self.inList.length()-1\n",
    "        return self.inList.remove(top)"
   ]
  },
  {
   "cell_type": "markdown",
   "metadata": {},
   "source": [
    "## Queues"
   ]
  },
  {
   "cell_type": "code",
   "execution_count": null,
   "metadata": {},
   "outputs": [],
   "source": []
  },
  {
   "cell_type": "code",
   "execution_count": null,
   "metadata": {},
   "outputs": [],
   "source": []
  },
  {
   "cell_type": "code",
   "execution_count": null,
   "metadata": {},
   "outputs": [],
   "source": []
  },
  {
   "cell_type": "code",
   "execution_count": null,
   "metadata": {},
   "outputs": [],
   "source": []
  },
  {
   "cell_type": "code",
   "execution_count": null,
   "metadata": {},
   "outputs": [],
   "source": []
  }
 ],
 "metadata": {
  "kernelspec": {
   "display_name": "Python 3",
   "language": "python",
   "name": "python3"
  },
  "language_info": {
   "codemirror_mode": {
    "name": "ipython",
    "version": 3
   },
   "file_extension": ".py",
   "mimetype": "text/x-python",
   "name": "python",
   "nbconvert_exporter": "python",
   "pygments_lexer": "ipython3",
   "version": "3.12.1"
  }
 },
 "nbformat": 4,
 "nbformat_minor": 2
}
