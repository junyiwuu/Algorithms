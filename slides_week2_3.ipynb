{
 "cells": [
  {
   "cell_type": "markdown",
   "metadata": {},
   "source": [
    "## sorting"
   ]
  },
  {
   "cell_type": "markdown",
   "metadata": {},
   "source": [
    "#### selection sort"
   ]
  },
  {
   "cell_type": "code",
   "execution_count": 3,
   "metadata": {},
   "outputs": [],
   "source": [
    "def selectionSort(A):\n",
    "    for i in range(len(A)):\n",
    "        imin = findMin(i, A)\n",
    "        swap(i, imin, A)\n",
    "    return A\n",
    "\n",
    "def findMin(i, A):\n",
    "    imin = i\n",
    "    for j in range(i+1, len(A)):\n",
    "        if A[j]< A[imin]:\n",
    "            imin = j\n",
    "    return imin\n",
    "\n",
    "def swap(i, j, A):\n",
    "    tmp = A[i]\n",
    "    A[i] = A[j]\n",
    "    A[j] = tmp\n"
   ]
  },
  {
   "cell_type": "code",
   "execution_count": 4,
   "metadata": {},
   "outputs": [
    {
     "data": {
      "text/plain": [
       "[0.3, 1, 2, 3, 42, 67]"
      ]
     },
     "execution_count": 4,
     "metadata": {},
     "output_type": "execute_result"
    }
   ],
   "source": [
    "l = [3,2,67,1,0.3,42]\n",
    "selectionSort(l)"
   ]
  },
  {
   "cell_type": "markdown",
   "metadata": {},
   "source": [
    "#### insertion sort"
   ]
  },
  {
   "cell_type": "code",
   "execution_count": 13,
   "metadata": {},
   "outputs": [],
   "source": [
    "def insertionSort(A):\n",
    "    for i in range(1, len(A)):\n",
    "        insert(A[i], A, i)\n",
    "    return A\n",
    "\n",
    "def insert(currentNum, A, currentPos):\n",
    "    for i in range(currentPos-1, -1, -1):  #staring from currentPos-1, then keep reducing until find 0 (-1 is not included)\n",
    "        if currentNum >= A[i]:\n",
    "            A[i+1] = currentNum\n",
    "            return \n",
    "        A[i+1] = A[i]  #otherwise opposite\n",
    "    A[0] = currentNum"
   ]
  },
  {
   "cell_type": "code",
   "execution_count": 14,
   "metadata": {},
   "outputs": [
    {
     "data": {
      "text/plain": [
       "[1, 2, 2, 3, 4, 12, 54, 77]"
      ]
     },
     "execution_count": 14,
     "metadata": {},
     "output_type": "execute_result"
    }
   ],
   "source": [
    "l = [2,54,12,77,4,3,2,1]\n",
    "insertionSort(l)"
   ]
  },
  {
   "cell_type": "markdown",
   "metadata": {},
   "source": [
    "## search"
   ]
  },
  {
   "cell_type": "markdown",
   "metadata": {},
   "source": [
    "#### linear search"
   ]
  },
  {
   "cell_type": "code",
   "execution_count": 36,
   "metadata": {},
   "outputs": [],
   "source": [
    "def sortedSearch(A, v):\n",
    "    for i in range(len(A)):\n",
    "        if A[i] == v:\n",
    "            return i\n",
    "        if A[i] > v:\n",
    "            return -1\n",
    "    return -1\n"
   ]
  },
  {
   "cell_type": "code",
   "execution_count": 41,
   "metadata": {},
   "outputs": [
    {
     "data": {
      "text/plain": [
       "4"
      ]
     },
     "execution_count": 41,
     "metadata": {},
     "output_type": "execute_result"
    }
   ],
   "source": [
    "#must be sorted array\n",
    "A = [1,1,2,5,32,222]\n",
    "v = 32\n",
    "sortedSearch(A, v)"
   ]
  },
  {
   "cell_type": "code",
   "execution_count": 42,
   "metadata": {},
   "outputs": [],
   "source": [
    "# IMPROVED linear search\n",
    "\n",
    "def sortedSearch2(A, v):\n",
    "    for i in range(len(A)):\n",
    "        if A[i] >= v:\n",
    "            if A[i] == v:\n",
    "                return i\n",
    "            else:\n",
    "                return -1\n",
    "    return -1"
   ]
  },
  {
   "cell_type": "code",
   "execution_count": 43,
   "metadata": {},
   "outputs": [
    {
     "data": {
      "text/plain": [
       "4"
      ]
     },
     "execution_count": 43,
     "metadata": {},
     "output_type": "execute_result"
    }
   ],
   "source": [
    "A = [1,1,2,5,32,222]\n",
    "v = 32\n",
    "sortedSearch2(A, v)"
   ]
  },
  {
   "cell_type": "markdown",
   "metadata": {},
   "source": [
    "#### binary search\n"
   ]
  },
  {
   "cell_type": "code",
   "execution_count": 50,
   "metadata": {},
   "outputs": [],
   "source": [
    "def binSearch(A, v):\n",
    "    lo = 0\n",
    "    hi = len(A) -1 \n",
    "    while(lo <= hi):\n",
    "        mid = (lo+hi)//2\n",
    "        if A[mid] == v:\n",
    "            return mid\n",
    "        elif v > A[mid]:\n",
    "            lo = mid+1\n",
    "        else:\n",
    "            hi = mid - 1\n",
    "    return -1"
   ]
  },
  {
   "cell_type": "code",
   "execution_count": 52,
   "metadata": {},
   "outputs": [
    {
     "data": {
      "text/plain": [
       "2"
      ]
     },
     "execution_count": 52,
     "metadata": {},
     "output_type": "execute_result"
    }
   ],
   "source": [
    "A = [1,3,23,64,78,99,192]\n",
    "v= 23\n",
    "binSearch(A, v)"
   ]
  },
  {
   "cell_type": "markdown",
   "metadata": {},
   "source": [
    "## Recursion"
   ]
  },
  {
   "cell_type": "markdown",
   "metadata": {},
   "source": [
    "#### factoria"
   ]
  },
  {
   "cell_type": "code",
   "execution_count": 2,
   "metadata": {},
   "outputs": [
    {
     "data": {
      "text/plain": [
       "120"
      ]
     },
     "execution_count": 2,
     "metadata": {},
     "output_type": "execute_result"
    }
   ],
   "source": [
    "def factorial(n):\n",
    "    p = 1\n",
    "    for i in range(1, n+1):\n",
    "        p*=i\n",
    "    return p\n",
    "\n",
    "factorial(5)"
   ]
  },
  {
   "cell_type": "code",
   "execution_count": 7,
   "metadata": {},
   "outputs": [
    {
     "data": {
      "text/plain": [
       "120"
      ]
     },
     "execution_count": 7,
     "metadata": {},
     "output_type": "execute_result"
    }
   ],
   "source": [
    "def factorial2(n):\n",
    "    if n <=1:\n",
    "        return 1\n",
    "    return n * factorial2(n-1)\n",
    "\n",
    "factorial2(5)"
   ]
  },
  {
   "cell_type": "markdown",
   "metadata": {},
   "source": [
    "##### use recursion to find the maximum"
   ]
  },
  {
   "cell_type": "code",
   "execution_count": 16,
   "metadata": {},
   "outputs": [],
   "source": [
    "## original version of find the maximum\n",
    "def maximum(A):\n",
    "    m = A[0]\n",
    "    for i in range(len(A)):\n",
    "        if A[i]>m:\n",
    "            m = A[i]\n",
    "    return m"
   ]
  },
  {
   "cell_type": "code",
   "execution_count": 17,
   "metadata": {},
   "outputs": [
    {
     "data": {
      "text/plain": [
       "55"
      ]
     },
     "execution_count": 17,
     "metadata": {},
     "output_type": "execute_result"
    }
   ],
   "source": [
    "A= [ 2,3,4,12,55,2,3]\n",
    "maximum(A)"
   ]
  },
  {
   "cell_type": "code",
   "execution_count": 18,
   "metadata": {},
   "outputs": [],
   "source": [
    "## recursion version\n",
    "\n",
    "def maximumRe(A):\n",
    "    if len(A)==1:\n",
    "        return A[0]\n",
    "    return max(A[0], maximumRe(A[1:]))"
   ]
  },
  {
   "cell_type": "code",
   "execution_count": 19,
   "metadata": {},
   "outputs": [
    {
     "data": {
      "text/plain": [
       "55"
      ]
     },
     "execution_count": 19,
     "metadata": {},
     "output_type": "execute_result"
    }
   ],
   "source": [
    "A= [ 2,3,4,12,55,2,3]\n",
    "maximumRe(A)"
   ]
  },
  {
   "cell_type": "code",
   "execution_count": 20,
   "metadata": {},
   "outputs": [],
   "source": [
    "# check if in the list\n",
    "def isIn(x, A):\n",
    "    for i in range(len(A)):\n",
    "        if A[i] == x:\n",
    "            return True\n",
    "    return False"
   ]
  },
  {
   "cell_type": "code",
   "execution_count": 22,
   "metadata": {},
   "outputs": [],
   "source": [
    "# recursion version\n",
    "def isIn(x, A):\n",
    "    if len(A) == 0:\n",
    "        return False\n",
    "    return A[0] == x or isIn(x, A[1:])"
   ]
  },
  {
   "cell_type": "code",
   "execution_count": 24,
   "metadata": {},
   "outputs": [
    {
     "data": {
      "text/plain": [
       "False"
      ]
     },
     "execution_count": 24,
     "metadata": {},
     "output_type": "execute_result"
    }
   ],
   "source": [
    "A = [5,9,3,1]\n",
    "isIn(2, A)"
   ]
  },
  {
   "cell_type": "markdown",
   "metadata": {},
   "source": [
    "#### auxiliary function with index (search)"
   ]
  },
  {
   "cell_type": "code",
   "execution_count": 25,
   "metadata": {},
   "outputs": [],
   "source": [
    "def searchRec(A, v):\n",
    "    return searchRecAux(A, v, 0)\n",
    "\n",
    "def searchRecAux(A, v, lo):\n",
    "    if lo == len(A):\n",
    "        return -1\n",
    "    if A[lo] == v:\n",
    "        return lo\n",
    "    return searchRecAux(A, v, lo+1)"
   ]
  },
  {
   "cell_type": "code",
   "execution_count": 28,
   "metadata": {},
   "outputs": [
    {
     "data": {
      "text/plain": [
       "3"
      ]
     },
     "execution_count": 28,
     "metadata": {},
     "output_type": "execute_result"
    }
   ],
   "source": [
    "A = [5,9,3,1]\n",
    "v=1\n",
    "searchRec(A, v)"
   ]
  },
  {
   "cell_type": "code",
   "execution_count": 32,
   "metadata": {},
   "outputs": [],
   "source": [
    "def searchRec1(A,v):\n",
    "    if A== []:   # need to add empty list because the recursion will run out\n",
    "        return -1\n",
    "    if A[0] == v:\n",
    "        return 0\n",
    "    return searchRec1(A[1:], v)"
   ]
  },
  {
   "cell_type": "code",
   "execution_count": 34,
   "metadata": {},
   "outputs": [
    {
     "data": {
      "text/plain": [
       "0"
      ]
     },
     "execution_count": 34,
     "metadata": {},
     "output_type": "execute_result"
    }
   ],
   "source": [
    "A = [5,9,3,1]\n",
    "v=1\n",
    "searchRec1(A, v)"
   ]
  },
  {
   "cell_type": "code",
   "execution_count": 39,
   "metadata": {},
   "outputs": [],
   "source": [
    "def searchRec(A, v):\n",
    "    if A == []:\n",
    "        return -1\n",
    "    if A[0] == v:\n",
    "        return 0\n",
    "    recs = searchRec(A[1:], v)  #这里就是看套到第几环，达到的那层的时候返回0，然后每次出套的时候增加一\n",
    "    if recs == -1:\n",
    "        return -1\n",
    "    return recs+1\n",
    "\n"
   ]
  },
  {
   "cell_type": "code",
   "execution_count": 38,
   "metadata": {},
   "outputs": [
    {
     "data": {
      "text/plain": [
       "3"
      ]
     },
     "execution_count": 38,
     "metadata": {},
     "output_type": "execute_result"
    }
   ],
   "source": [
    "A = [5,9,3,1]\n",
    "v=1\n",
    "searchRec(A, v)"
   ]
  },
  {
   "cell_type": "markdown",
   "metadata": {},
   "source": [
    "#### tail recursion\n"
   ]
  },
  {
   "cell_type": "code",
   "execution_count": null,
   "metadata": {},
   "outputs": [],
   "source": [
    "def factRecTail(n):\n",
    "    return factRecAux(n, 1)\n",
    "def factRecAux(n, acc):\n",
    "    if n == 0:\n",
    "        return acc\n",
    "    return factRecAux(n-1, n*acc)"
   ]
  },
  {
   "cell_type": "markdown",
   "metadata": {},
   "source": [
    "### merge sort"
   ]
  },
  {
   "cell_type": "code",
   "execution_count": 8,
   "metadata": {},
   "outputs": [],
   "source": [
    "def mergeSort(A):\n",
    "    if len(A) <=1:\n",
    "        return\n",
    "    mid = len(A)//2\n",
    "    half1 = A[:mid]\n",
    "    half2 = A[mid:]\n",
    "    mergeSort(half1)\n",
    "    mergeSort(half2)\n",
    "    merge(half1, half2, A)\n",
    "\n",
    "\n",
    "def merge(h1, h2, A):\n",
    "    i = 0; j1=0; j2=0\n",
    "    while j1 < len(h1) and j2<len(h2):\n",
    "        if h1[j1]<h2[j2]:\n",
    "            A[i] = h1[j1]\n",
    "            j1 += 1\n",
    "            i += 1\n",
    "        else:\n",
    "            A[i] = h2[j2]\n",
    "            j2 += 1\n",
    "            i += 1\n",
    "        #above can only deal with half amount of elements\n",
    "    while j1 < len(h1):\n",
    "        A[i] = h1[j1]\n",
    "        j1 += 1\n",
    "        i += 1\n",
    "    while j2 < len(h2):\n",
    "        A[i] = h2[j2]\n",
    "        j2 += 1\n",
    "        i += 1\n",
    "        #add the rest of elements into the array, no sort here"
   ]
  },
  {
   "cell_type": "code",
   "execution_count": 11,
   "metadata": {},
   "outputs": [
    {
     "name": "stdout",
     "output_type": "stream",
     "text": [
      "[1, 2, 2, 2, 3, 5, 5, 51, 54, 213]\n"
     ]
    }
   ],
   "source": [
    "B = [2,3,51,2,54,213,5,1,2,5]\n",
    "mergeSort(B)\n",
    "print(B)"
   ]
  },
  {
   "cell_type": "markdown",
   "metadata": {},
   "source": [
    "### quicksort\n"
   ]
  },
  {
   "cell_type": "code",
   "execution_count": 12,
   "metadata": {},
   "outputs": [],
   "source": [
    "def quickSort(A):\n",
    "    quickSortRec(A, 0, len(A))\n",
    "\n",
    "def quickSortRec(A, lo, hi):\n",
    "    # sorts A[lo:hi]\n",
    "    if hi-lo <= 1 :\n",
    "        return   #终止递归，结束函数的执行。return后没跟值，默认返回的是None\n",
    "    iPivot = partition(A, lo, hi)\n",
    "    quickSortRec(A, lo, iPivot)\n",
    "    quickSortRec(A, iPivot+1, hi)\n",
    "\n",
    "\n",
    "def partition(A, lo, hi):\n",
    "    pivot = A[lo]\n",
    "    B = [0 for i in range(lo, hi)] # 生成列表B，长度为lo-hi，所有元素为0\n",
    "    loB = 0\n",
    "    hiB = len(B) - 1\n",
    "    for i in range(lo+1, hi):\n",
    "        if A[i] < pivot:\n",
    "            B[loB] = A[i]\n",
    "            loB += 1\n",
    "        else:\n",
    "            B[hiB] = A[i]\n",
    "            hiB -= 1\n",
    "    B[loB] = pivot\n",
    "    for i in range(len(B)):\n",
    "        A[lo+i] = B[i]\n",
    "    return lo+loB"
   ]
  },
  {
   "cell_type": "code",
   "execution_count": 15,
   "metadata": {},
   "outputs": [
    {
     "name": "stdout",
     "output_type": "stream",
     "text": [
      "[1, 2, 2, 2, 3, 5, 5, 51, 54, 213]\n"
     ]
    }
   ],
   "source": [
    "C = [2,3,51,2,54,213,5,1,2,5]\n",
    "quickSort(C)\n",
    "print(C)"
   ]
  },
  {
   "cell_type": "code",
   "execution_count": null,
   "metadata": {},
   "outputs": [],
   "source": []
  }
 ],
 "metadata": {
  "kernelspec": {
   "display_name": "base",
   "language": "python",
   "name": "python3"
  },
  "language_info": {
   "codemirror_mode": {
    "name": "ipython",
    "version": 3
   },
   "file_extension": ".py",
   "mimetype": "text/x-python",
   "name": "python",
   "nbconvert_exporter": "python",
   "pygments_lexer": "ipython3",
   "version": "3.11.7"
  }
 },
 "nbformat": 4,
 "nbformat_minor": 2
}
