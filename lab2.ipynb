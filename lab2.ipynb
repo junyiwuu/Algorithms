{
 "cells": [
  {
   "cell_type": "markdown",
   "metadata": {},
   "source": [
    "# ECS529U Algorithms and Data Structures\n",
    "# Lab sheet 2 (deadline: week 3)\n",
    "\n",
    "This second lab gets you to work with arrays. For each of the questions, write down and run at least 3\n",
    "tests, trying to capture corner cases (e.g. empty arrays). Below we have\n",
    "already provided you with tests for the first two Questions.\n",
    "\n",
    "**Marks (max 5):** Questions 1-3: 1 each | Questions 4-7: 0.5 each"
   ]
  },
  {
   "cell_type": "markdown",
   "metadata": {},
   "source": [
    "## Question 1\n",
    "\n",
    "Write a Python function:\n",
    "```\n",
    "def squareArray(A)\n",
    "```\n",
    "which takes an array of integers as input and squares every integer in the array. \n",
    "\n",
    "For example, if it takes the array `[5,12,31,7,25]` as input, it will change the array to `[25, 144, 961, 49, 625]`."
   ]
  },
  {
   "cell_type": "code",
   "execution_count": null,
   "metadata": {},
   "outputs": [],
   "source": [
    "# some tests, but you can add your own ones as well\n",
    "tests = (([5,12,31,7,25]), \n",
    "         ([-5,12,-31,7,25]),\n",
    "         ([-5,12,0,7,25]),\n",
    "         ([0]),\n",
    "         ([]))\n",
    "\n",
    "# should print: [25, 144, 961, 49, 625],[25, 144, 961, 49, 625],[25, 144, 0, 49, 625],[0],[]\n",
    "for A in tests: \n",
    "    squareArray(A); print(A)"
   ]
  },
  {
   "cell_type": "markdown",
   "metadata": {},
   "source": [
    "## Question 2\n",
    "\n",
    "Write a Python function:\n",
    "```\n",
    "def squareArray2(A)\n",
    "```\n",
    "which performs the same task as Question 1, but does it by creating and returning a new array with the squared values rather than changing the array passed to it.\n",
    "\n",
    "For example, if it takes the array `[5,12,31,7,25]` as input, it will return the array `[25, 144, 961, 49, 625]` but the initial array will remain `[5,12,31,7,25]`."
   ]
  },
  {
   "cell_type": "code",
   "execution_count": null,
   "metadata": {},
   "outputs": [],
   "source": [
    "# some tests, but you can add your own ones as well\n",
    "tests = (([5,12,31,7,25]), \n",
    "         ([-5,12,-31,7,25]),\n",
    "         ([-5,12,0,7,25]),\n",
    "         ([0]),\n",
    "         ([]))\n",
    "\n",
    "# should print: [25, 144, 961, 49, 625] [5, 12, 31, 7, 25]\n",
    "# [25, 144, 961, 49, 625] [-5, 12, -31, 7, 25]\n",
    "# [25, 144, 0, 49, 625] [-5, 12, 0, 7, 25]\n",
    "# [0] [0]\n",
    "# [] []\n",
    "for A in tests: \n",
    "    print(squareArray2(A),A)"
   ]
  },
  {
   "cell_type": "markdown",
   "metadata": {},
   "source": [
    "## Question 3\n",
    "\n",
    "Write a Python function:\n",
    "```\n",
    "def minWithPos(A)\n",
    "```\n",
    "which takes an array of integers and returns the smallest integer in the array along with its position, as a pair. For example, if it takes the array `[10,5,12,31,7,25]` as input it will return the pair `(5,1)`. If `A` is empty, the function should return `None` (which corresponds to the null value in Python).\n",
    "\n",
    "*Note:* The specification does not mention which position to return in case the biggest element occurs in more than one positions, so the function can return any of those positions."
   ]
  },
  {
   "cell_type": "code",
   "execution_count": null,
   "metadata": {},
   "outputs": [],
   "source": [
    "# some tests, but you can add your own ones as well\n",
    "# should print: (5, 1),(-31, 2),(-25, 4),(12, 0),None,(-5, 0)\n",
    "\n",
    "tests = ([10,5,12,31,7,25],[-5,12,-31,7,25],[-5,-12,31,-7,-25],[12,13],[],[-5])\n",
    "\n",
    "for A in tests:\n",
    "    print(minWithPos(A)) "
   ]
  },
  {
   "cell_type": "markdown",
   "metadata": {},
   "source": [
    "## Question 4\n",
    "\n",
    "Write a function \n",
    "```\n",
    "def minWithPoss(A)\n",
    "```\n",
    "which takes an array of integers and a pair containing the smallest integer in the array and an array with all its positions. The array of positions should sorted. For example, if it takes the array `[10,5,12,31,7,25]` as input, it will return `(5,[1])`, and if it takes the array `[10,5,12,31,7,25,5,18,7,5]` it will return `(5,[1,6,9])`. If it takes `[]` as it argument, it should return `None`.\n",
    "\n",
    "*Hint:* the array of indices that you need to return can be of arbitrary size – e.g. in the examples above it is `[1]`, or `[1,6,9]` or `[]` – so you might want to build it on the fly. You can use the function `append` that we saw in the lecture Exercises of week 1, which takes an array and an integer and creates new array extending the old one with that integer."
   ]
  },
  {
   "cell_type": "code",
   "execution_count": null,
   "metadata": {},
   "outputs": [],
   "source": [
    "def append(A,k):\n",
    "    B = [None for _ in range(len(A)+1)]\n",
    "    for i in range(len(A)): B[i]=A[i]\n",
    "    B[len(A)]=k\n",
    "    return B\n",
    "\n",
    "# some tests, you can add your own ones as well\n",
    "# should print (5, [1, 6, 9]),(-31, [3, 5]),None,(1, [0]),(1, [0, 1]),(0, [4])\n",
    "tests = ([10,5,12,31,7,25,5,18,7,5],[-5,12,-5,-31,7,-31,25],[],[1],[1,1],[1,1,1,1,0])\n",
    "for A in tests:\n",
    "    print(minWithPoss(A))"
   ]
  },
  {
   "cell_type": "markdown",
   "metadata": {},
   "source": [
    "## Question 5\n",
    "\n",
    "Write a Python function:\n",
    "```\n",
    "def occurInBoth(A, B)\n",
    "```\n",
    "which takes two arrays of integers, each of which has no repeating elements, and returns a new array containing all integers that occur in both arrays. For example, if it takes the arrays [`5,12,31,7,25]` and `[4,12,8,7,42,31]` it will return `[12,31,7]` (the order of elements in the return array does not matter).\n",
    "\n",
    "*Hint:* you will probably find useful to use the function `isIn` that we saw in the lecture Exercises of week 1, which checks whether a given element appears inside a given array. "
   ]
  },
  {
   "cell_type": "code",
   "execution_count": null,
   "metadata": {},
   "outputs": [],
   "source": [
    "def isIn(A,k):\n",
    "    for i in range(len(A)):\n",
    "        if A[i] == k:\n",
    "            return True\n",
    "    return False\n",
    "\n",
    "# some tests, but you can add your own ones as well\n",
    "tests = (([5,12,31,7,25],[4,12,8,7,42,31]),\n",
    "         ([5,31,7,12,25],[]),\n",
    "         ([],[4,12,8,7,42,31]),\n",
    "         ([4,12,8,7,42,31],[5,12,7,31,7,25]))\n",
    "\n",
    "for (A,B) in tests: print(occurInBoth(A,B))"
   ]
  },
  {
   "cell_type": "markdown",
   "metadata": {},
   "source": [
    "## Question 6\n",
    "\n",
    "Write a Python function:\n",
    "```\n",
    "def occurInBothReps(A, B)\n",
    "```\n",
    "which takes two arrays of integers, which may have repeating elements, and returns a new array containing all integers that occur in both arrays. For example, if it takes the arrays [`5,7,12,31,7,25]` and `[4,12,8,12,7,42,31]` it will return `[7,12,31]` (i.e. the repeated elements are only counted once)."
   ]
  },
  {
   "cell_type": "code",
   "execution_count": null,
   "metadata": {},
   "outputs": [],
   "source": [
    "# some tests, but you can add your own ones as well\n",
    "tests = (([5,7,12,31,7,25],[4,12,8,12,7,42,31]),\n",
    "         ([5,31,7,12,25],[4,12,8,7,42,31]),\n",
    "         ([5,31,7,12,25],[]),\n",
    "         ([],[4,12,8,7,42,31]))\n",
    "\n",
    "for (A,B) in tests: print(occurInBothReps(A,B))"
   ]
  },
  {
   "cell_type": "markdown",
   "metadata": {},
   "source": [
    "## Question 7\n",
    "\n",
    "Consider how a different algorithm could be used for Question 6 if it were known that both arrays passed to the method were sorted (in increasing order). \n",
    "Write a function:\n",
    "```\n",
    "def occurInBothSorted(A,B)\n",
    "```\n",
    "which has the same specification as `occurInBothReps` but where `A` and `B` are sorted. Your function should examine each element of `A` and `B` only once. \n",
    "\n",
    "Your solution should have linear time complexity, which you should be able to calculate (covered in Week 2). Solutions with higher complexity marked with max 0.2.\n",
    "\n",
    "*Hint:* You should avoid using the function `append` that we saw in the lectures, as it has linear time complexity so repeated applications thereof will lead to quadratic time overall. Instead, you could sacrifice space and start with a large enough array where you store the common elements, and then only return (a copy of) the part of the array that you have used."
   ]
  },
  {
   "cell_type": "code",
   "execution_count": null,
   "metadata": {},
   "outputs": [],
   "source": [
    "# some tests, but you can add your own ones as well\n",
    "tests = (([1,3,5,5,17,17,23,24,31,56,56],[3,5,5,10,23,23,37,42,56]),\n",
    "         ([1,3,5,5,17,17,23,24,31,56,56],[4]),\n",
    "         ([4],[4,7,8,31,42]),\n",
    "         ([],[4,7,8,31,42]),\n",
    "         ([4],[]))\n",
    "\n",
    "for (A,B) in tests: print(occurInBothSorted(A,B))"
   ]
  }
 ],
 "metadata": {
  "kernelspec": {
   "display_name": "Python 3 (ipykernel)",
   "language": "python",
   "name": "python3"
  },
  "language_info": {
   "codemirror_mode": {
    "name": "ipython",
    "version": 3
   },
   "file_extension": ".py",
   "mimetype": "text/x-python",
   "name": "python",
   "nbconvert_exporter": "python",
   "pygments_lexer": "ipython3",
   "version": "3.11.0"
  }
 },
 "nbformat": 4,
 "nbformat_minor": 4
}
