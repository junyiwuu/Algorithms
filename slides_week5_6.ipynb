{
 "cells": [
  {
   "cell_type": "code",
   "execution_count": null,
   "metadata": {},
   "outputs": [],
   "source": []
  },
  {
   "cell_type": "markdown",
   "metadata": {},
   "source": [
    "### Linked Lists"
   ]
  },
  {
   "cell_type": "code",
   "execution_count": 13,
   "metadata": {},
   "outputs": [],
   "source": [
    "class Node:\n",
    "    def __init__(self, d, n):\n",
    "        self.data = d \n",
    "        self.next = n"
   ]
  },
  {
   "cell_type": "code",
   "execution_count": 14,
   "metadata": {},
   "outputs": [],
   "source": [
    "ls = Node(7, None)\n",
    "ls.next = Node(3, None)\n",
    "ls.next.next = Node(1, None)\n"
   ]
  },
  {
   "cell_type": "code",
   "execution_count": 15,
   "metadata": {},
   "outputs": [
    {
     "data": {
      "text/plain": [
       "3"
      ]
     },
     "execution_count": 15,
     "metadata": {},
     "output_type": "execute_result"
    }
   ],
   "source": [
    "ls.next.data"
   ]
  },
  {
   "cell_type": "code",
   "execution_count": 16,
   "metadata": {},
   "outputs": [
    {
     "name": "stdout",
     "output_type": "stream",
     "text": [
      "3\n",
      "1\n"
     ]
    },
    {
     "ename": "AttributeError",
     "evalue": "'NoneType' object has no attribute 'data'",
     "output_type": "error",
     "traceback": [
      "\u001b[0;31m---------------------------------------------------------------------------\u001b[0m",
      "\u001b[0;31mAttributeError\u001b[0m                            Traceback (most recent call last)",
      "Cell \u001b[0;32mIn[16], line 4\u001b[0m\n\u001b[1;32m      2\u001b[0m \u001b[38;5;28;01mwhile\u001b[39;00m ptr \u001b[38;5;241m!=\u001b[39m \u001b[38;5;28;01mNone\u001b[39;00m:\n\u001b[1;32m      3\u001b[0m     ptr \u001b[38;5;241m=\u001b[39m ptr\u001b[38;5;241m.\u001b[39mnext\n\u001b[0;32m----> 4\u001b[0m     \u001b[38;5;28mprint\u001b[39m(\u001b[43mptr\u001b[49m\u001b[38;5;241;43m.\u001b[39;49m\u001b[43mdata\u001b[49m)\n",
      "\u001b[0;31mAttributeError\u001b[0m: 'NoneType' object has no attribute 'data'"
     ]
    }
   ],
   "source": [
    "ptr = ls\n",
    "while ptr != None:\n",
    "    ptr = ptr.next\n",
    "    print(ptr.data)"
   ]
  },
  {
   "cell_type": "markdown",
   "metadata": {},
   "source": [
    "#### print all elements of the link list"
   ]
  },
  {
   "cell_type": "code",
   "execution_count": 24,
   "metadata": {},
   "outputs": [],
   "source": [
    "def printAll(ls):\n",
    "    if ls == None:\n",
    "        return\n",
    "    print(ls.data)\n",
    "    printAll(ls.next)  #recursive call self function"
   ]
  },
  {
   "cell_type": "code",
   "execution_count": 25,
   "metadata": {},
   "outputs": [
    {
     "name": "stdout",
     "output_type": "stream",
     "text": [
      "7\n",
      "3\n",
      "1\n"
     ]
    }
   ],
   "source": [
    "printAll(ls)"
   ]
  },
  {
   "cell_type": "markdown",
   "metadata": {},
   "source": [
    "### Appending"
   ]
  },
  {
   "cell_type": "code",
   "execution_count": 27,
   "metadata": {},
   "outputs": [],
   "source": [
    "def append(d, ls):\n",
    "    if ls == None:\n",
    "        ls = Node(d , None)      #initiate the linked list\n",
    "    else:\n",
    "        ptr = ls\n",
    "        while ptr.next != None:\n",
    "            ptr = ptr.next\n",
    "        ptr.next = Node(d, None)\n",
    "        "
   ]
  },
  {
   "cell_type": "code",
   "execution_count": 30,
   "metadata": {},
   "outputs": [
    {
     "name": "stdout",
     "output_type": "stream",
     "text": [
      "7\n",
      "3\n",
      "1\n",
      "30\n"
     ]
    }
   ],
   "source": [
    "append(30, ls)\n",
    "printAll(ls)"
   ]
  },
  {
   "cell_type": "markdown",
   "metadata": {},
   "source": [
    "### Search"
   ]
  },
  {
   "cell_type": "code",
   "execution_count": 35,
   "metadata": {},
   "outputs": [],
   "source": [
    "def search(d, ls):\n",
    "    i = 0\n",
    "    ptr = ls\n",
    "    while ptr != None:      # 检查node本身是否存在 \n",
    "        if ptr.data == d:   # 注意如果data和next都是none，节点本身也是存在的\n",
    "            return i\n",
    "        ptr = ptr.next\n",
    "        i += 1\n",
    "    return -1"
   ]
  },
  {
   "cell_type": "code",
   "execution_count": 37,
   "metadata": {},
   "outputs": [
    {
     "data": {
      "text/plain": [
       "3"
      ]
     },
     "execution_count": 37,
     "metadata": {},
     "output_type": "execute_result"
    }
   ],
   "source": [
    "search(30, ls)"
   ]
  },
  {
   "cell_type": "markdown",
   "metadata": {},
   "source": [
    "### Inserting\n"
   ]
  },
  {
   "cell_type": "code",
   "execution_count": 39,
   "metadata": {},
   "outputs": [],
   "source": [
    "def insert(d, i, ls):\n",
    "    if ls == None:\n",
    "        ls = Node(d, None)\n",
    "    elif i == 0:\n",
    "        ls = Node(d, ls)\n",
    "    else:\n",
    "        ptr = ls\n",
    "        while i >1 and ptr.next != None:\n",
    "            ptr = ptr.next\n",
    "            i -= 1\n",
    "        ptr.next = Node(d, ptr.next)        "
   ]
  },
  {
   "cell_type": "code",
   "execution_count": 40,
   "metadata": {},
   "outputs": [
    {
     "name": "stdout",
     "output_type": "stream",
     "text": [
      "7\n",
      "10\n",
      "3\n",
      "1\n",
      "30\n"
     ]
    }
   ],
   "source": [
    "insert(10, 1, ls)\n",
    "printAll(ls)"
   ]
  },
  {
   "cell_type": "markdown",
   "metadata": {},
   "source": [
    "### Removing"
   ]
  },
  {
   "cell_type": "code",
   "execution_count": 42,
   "metadata": {},
   "outputs": [],
   "source": [
    "def remove(i , ls):\n",
    "    if ls == None:\n",
    "        return\n",
    "    elif i == 0:\n",
    "        ls = ls.next\n",
    "    else:\n",
    "        ptr = ls\n",
    "        while ptr.next != None:\n",
    "            if i == 1:\n",
    "                ptr.next = ptr.next.next\n",
    "                break\n",
    "            ptr = ptr.next\n",
    "            i-=1"
   ]
  },
  {
   "cell_type": "code",
   "execution_count": 43,
   "metadata": {},
   "outputs": [],
   "source": [
    "class LinkedList:\n",
    "    def __init__(self):\n",
    "        self.head = None\n",
    "        self.length = 0"
   ]
  },
  {
   "cell_type": "markdown",
   "metadata": {},
   "source": [
    "#### doubly linked list (bidirection)"
   ]
  },
  {
   "cell_type": "code",
   "execution_count": 44,
   "metadata": {},
   "outputs": [],
   "source": [
    "class DNode:\n",
    "    def __init__(self, d, n, p):\n",
    "        self.data = d\n",
    "        self.next = n\n",
    "        self.prev = p\n",
    "\n",
    "\n",
    "        "
   ]
  },
  {
   "cell_type": "code",
   "execution_count": null,
   "metadata": {},
   "outputs": [],
   "source": []
  },
  {
   "cell_type": "markdown",
   "metadata": {},
   "source": [
    "### Binary Tree"
   ]
  },
  {
   "cell_type": "code",
   "execution_count": null,
   "metadata": {},
   "outputs": [],
   "source": [
    "class BTnode:\n",
    "    def __init__(self, d, l ,r):\n",
    "        self.data = d\n",
    "        self.left = l\n",
    "        self.right = r"
   ]
  },
  {
   "cell_type": "code",
   "execution_count": 45,
   "metadata": {},
   "outputs": [],
   "source": [
    "def search(t, d):\n",
    "    if t == None:\n",
    "        return False\n",
    "    if t.data == d:\n",
    "        return True\n",
    "    if search(t.left, d):\n",
    "        return True\n",
    "    return search(t.right, d)"
   ]
  },
  {
   "cell_type": "markdown",
   "metadata": {},
   "source": [
    "## Depth-First Search (DFS)"
   ]
  },
  {
   "cell_type": "code",
   "execution_count": null,
   "metadata": {},
   "outputs": [],
   "source": [
    "# pre-order( root -> left -> right)\n",
    "\n",
    "def printElemsDFS(t):\n",
    "    if t == None:\n",
    "        return\n",
    "    print(t.data)\n",
    "    printElemsDFS(t.left)\n",
    "    printElemsDFS(t.right)"
   ]
  },
  {
   "cell_type": "code",
   "execution_count": 47,
   "metadata": {},
   "outputs": [],
   "source": [
    "# in-order( left -> root -> right)\n",
    "\n",
    "def printElemsDFS(t):\n",
    "    if t == None:\n",
    "        return\n",
    "    printElemsDFS(t.left)\n",
    "    print(t.data)\n",
    "    printElemsDFS(t.right)"
   ]
  },
  {
   "cell_type": "code",
   "execution_count": 48,
   "metadata": {},
   "outputs": [],
   "source": [
    "# post-order( left -> right -> root)\n",
    "\n",
    "def printElemsDFS(t):\n",
    "    if t == None:\n",
    "        return\n",
    "    printElemsDFS(t.left)\n",
    "    printElemsDFS(t.right)\n",
    "    print(t.data)\n",
    "    "
   ]
  },
  {
   "cell_type": "markdown",
   "metadata": {},
   "source": [
    "## Breadth-First Search\n",
    "\n",
    "goes throguth the nodes of the tree elvel-by-level and left-to-right"
   ]
  },
  {
   "cell_type": "code",
   "execution_count": null,
   "metadata": {},
   "outputs": [],
   "source": [
    "def searchBF(t, d):\n",
    "    q = Queue()\n",
    "    q.enq(t)\n",
    "    while"
   ]
  },
  {
   "cell_type": "markdown",
   "metadata": {},
   "source": [
    "### Binary Search Trees (BST)"
   ]
  },
  {
   "cell_type": "markdown",
   "metadata": {},
   "source": [
    "#### Searching"
   ]
  },
  {
   "cell_type": "code",
   "execution_count": 49,
   "metadata": {},
   "outputs": [],
   "source": [
    "class BTNode:\n",
    "    def __init__(self, d, l, r):\n",
    "        self.data = d\n",
    "        self.left = l\n",
    "        self.right = r\n",
    "\n",
    "class BST:\n",
    "    def __init__(self):\n",
    "        self.root = None\n",
    "        self.size = 0\n",
    "\n",
    "def search(self,d):\n",
    "    ptr = self.root\n",
    "    while ptr != None:\n",
    "        if d ==ptr.data:\n",
    "            return True\n",
    "        if d < pre.data:\n",
    "            ptr = ptr.left\n",
    "        else:\n",
    "            ptr = right\n",
    "    return False\n",
    "\n",
    "\n",
    "def _searchNode(ptr, d):\n",
    "    if ptr == None:\n",
    "        return None\n",
    "    if d == ptr.data:\n",
    "        return ptr\n",
    "    if d < ptr.data:\n",
    "        return BST._searchNode(ptr.left, d)\n",
    "    return BST._searchNode(ptr.right, d)\n",
    "\n",
    "\n",
    "def search(self, d):\n",
    "    return BST._searchNode(self.root, d) != None\n",
    "\n"
   ]
  },
  {
   "cell_type": "markdown",
   "metadata": {},
   "source": [
    "#### Adding"
   ]
  },
  {
   "cell_type": "code",
   "execution_count": 51,
   "metadata": {},
   "outputs": [],
   "source": [
    "def add(self, d):\n",
    "    self.size += 1\n",
    "    if self.root == None:\n",
    "        self.root = BTNode(d, None, None)\n",
    "        return\n",
    "\n",
    "    ptr = self.root\n",
    "    while True:\n",
    "        if d < ptr.data:\n",
    "            if ptr.left == None:\n",
    "                ptr.left = BTNode(d, None, None)\n",
    "                return\n",
    "            ptr = ptr.left\n",
    "        else:\n",
    "            if ptr.right == None:\n",
    "                ptr = right = BTNode(d, None, None)\n",
    "                return\n",
    "            ptr = ptr.right"
   ]
  },
  {
   "cell_type": "markdown",
   "metadata": {},
   "source": [
    "#### Removing"
   ]
  },
  {
   "cell_type": "code",
   "execution_count": 52,
   "metadata": {},
   "outputs": [],
   "source": [
    "def remove(self, d):\n",
    "    if self.root == None:\n",
    "        return\n",
    "    parentPtr = None\n",
    "    ptr = self.root\n",
    "    while ptr != None:\n",
    "        if ptr.data == d:\n",
    "            self.size -= 1\n",
    "            return self._removeNode(ptr, parentPtr)\n",
    "        parentPtr = ptr\n",
    "        if d < ptr.left : \n",
    "            ptr = ptr.left\n",
    "        else:\n",
    "            ptr = ptr.right\n",
    "            "
   ]
  },
  {
   "cell_type": "code",
   "execution_count": 53,
   "metadata": {},
   "outputs": [],
   "source": [
    "def updateChild(ptr, oldChild, newChild):\n",
    "    if ptr == None:\n",
    "        self.root = newChild\n",
    "    elif ptr.left == oldChild:\n",
    "        ptr.left = newChild\n",
    "    elif ptr.right == oldChild:\n",
    "        ptr.right = newChild\n",
    "    else:\n",
    "        raise Exception(\"updateChild error\")"
   ]
  },
  {
   "cell_type": "code",
   "execution_count": 54,
   "metadata": {},
   "outputs": [],
   "source": [
    "def _removeNode(self, ptr, parentPtr):\n",
    "    if ptr.left == ptr.right == None:\n",
    "        updateChild(parentPtr, ptr, None)\n",
    "    if ptr.left == None:\n",
    "        updateChild(parentPtr, ptr, ptr.right)\n",
    "    if ptr.right == None:\n",
    "        updateChild(parentPtr, ptr, ptr.left)\n",
    "    else:\n",
    "        parentMinRNode = ptr\n",
    "        minRNode = ptr.right\n",
    "        while minRNode.left != None:\n",
    "            parentMinRNode = minRNode\n",
    "            minRNode = minRNode.left\n",
    "        ptr.data = minRNode.data\n",
    "        updateChild(parentMinRNode, minRNode,minRNode.right)"
   ]
  },
  {
   "cell_type": "code",
   "execution_count": null,
   "metadata": {},
   "outputs": [],
   "source": []
  }
 ],
 "metadata": {
  "kernelspec": {
   "display_name": "Python 3",
   "language": "python",
   "name": "python3"
  },
  "language_info": {
   "codemirror_mode": {
    "name": "ipython",
    "version": 3
   },
   "file_extension": ".py",
   "mimetype": "text/x-python",
   "name": "python",
   "nbconvert_exporter": "python",
   "pygments_lexer": "ipython3",
   "version": "3.12.1"
  }
 },
 "nbformat": 4,
 "nbformat_minor": 2
}
